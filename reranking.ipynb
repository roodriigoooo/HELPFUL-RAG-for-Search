{
 "cells": [
  {
   "cell_type": "code",
   "execution_count": 1,
   "id": "13c2c229-28ed-421a-83b0-508215327f70",
   "metadata": {},
   "outputs": [],
   "source": [
    "import json\n",
    "from langchain.docstore.document import Document\n",
    "import glob\n",
    "from langchain.embeddings import HuggingFaceEmbeddings\n",
    "from langchain.llms import HuggingFacePipeline\n",
    "from transformers import AutoTokenizer, AutoModelForSeq2SeqLM, pipeline"
   ]
  },
  {
   "cell_type": "code",
   "execution_count": 2,
   "id": "2c44a5b2-52af-4493-bd4b-1bd045d1bff3",
   "metadata": {},
   "outputs": [],
   "source": [
    "def load_okw_json(path):\n",
    "    documents = []\n",
    "    for file_path in glob.glob(f'{path}/*'):\n",
    "        with open(file_path, 'r') as f:\n",
    "            data = json.load(f)\n",
    "            content = create_document_content(data)\n",
    "            doc = Document(page_content=content, metadata={'title':data.get('title', '')})\n",
    "            documents.append(doc)\n",
    "    return documents\n",
    "        "
   ]
  },
  {
   "cell_type": "code",
   "execution_count": 3,
   "id": "8525cb45-0796-45cc-ad94-935b36edc2a2",
   "metadata": {},
   "outputs": [],
   "source": [
    "def create_document_content(data):\n",
    "    content_parts = []\n",
    "    content_parts.append(f\"Title: {data.get('title', '')}\")\n",
    "    content_parts.append(f\"Description: {data.get('description', '')}\")\n",
    "    content_parts.append(f\"Keywords: {', '.join(data.get('keywords', []))}\")\n",
    "    \n",
    "    # Process Inventory Atoms\n",
    "    inventory_atoms = data.get('inventory-atoms', [])\n",
    "    if inventory_atoms:\n",
    "        inventory_descriptions = []\n",
    "        for atom in inventory_atoms:\n",
    "            atom_desc = f\"{atom.get('identifier', '')}: {atom.get('description', '')}\"\n",
    "            inventory_descriptions.append(atom_desc)\n",
    "        content_parts.append(f\"Inventory Atoms: {', '.join(inventory_descriptions)}\")\n",
    "    \n",
    "    # Process Product Atoms\n",
    "    product_atoms = data.get('product-atoms', [])\n",
    "    if product_atoms:\n",
    "        product_descriptions = []\n",
    "        for atom in product_atoms:\n",
    "            atom_desc = f\"{atom.get('identifier', '')}: {atom.get('description', '')}\"\n",
    "            product_descriptions.append(atom_desc)\n",
    "        content_parts.append(f\"Product Atoms: {', '.join(product_descriptions)}\")\n",
    "    \n",
    "    # Process Tool List Atoms\n",
    "    tool_list_atoms = data.get('tool-list-atoms', [])\n",
    "    if tool_list_atoms:\n",
    "        tool_descriptions = []\n",
    "        for atom in tool_list_atoms:\n",
    "            atom_desc = f\"{atom.get('identifier', '')}: {atom.get('description', '')}\"\n",
    "            tool_descriptions.append(atom_desc)\n",
    "        content_parts.append(f\"Tool List Atoms: {', '.join(tool_descriptions)}\")\n",
    "    \n",
    "    # Process Processes\n",
    "    processes = data.get('processes', [])\n",
    "    if processes:\n",
    "        process_descriptions = [atom.get('identifier', '') for atom in processes]\n",
    "        content_parts.append(f\"Processes: {', '.join(process_descriptions)}\")\n",
    "    \n",
    "    return '\\n'.join(content_parts)"
   ]
  },
  {
   "cell_type": "code",
   "execution_count": 4,
   "id": "af242341-5efe-4ac6-8af7-7c01d40da58b",
   "metadata": {},
   "outputs": [],
   "source": [
    "directory_path = './OKWs/'\n",
    "documents = load_okw_json(directory_path)\n"
   ]
  },
  {
   "cell_type": "code",
   "execution_count": 5,
   "id": "170a8882-9f5b-42f9-857b-ecfb47964bca",
   "metadata": {},
   "outputs": [],
   "source": [
    "from langchain.text_splitter import RecursiveCharacterTextSplitter\n",
    "\n",
    "text_splitter = RecursiveCharacterTextSplitter(\n",
    "    chunk_size = 200,\n",
    "    chunk_overlap = 30\n",
    "    )\n",
    "\n",
    "splits = text_splitter.split_documents(documents)"
   ]
  },
  {
   "cell_type": "code",
   "execution_count": 6,
   "id": "eb449705-a9a2-4d1a-87ff-5029ca68f3c6",
   "metadata": {},
   "outputs": [
    {
     "name": "stderr",
     "output_type": "stream",
     "text": [
      "/var/folders/hh/n0z7fj213rs0qtpsswcnxxl40000gp/T/ipykernel_21863/1855002374.py:4: LangChainDeprecationWarning: The class `HuggingFaceEmbeddings` was deprecated in LangChain 0.2.2 and will be removed in 1.0. An updated version of the class exists in the :class:`~langchain-huggingface package and should be used instead. To use it run `pip install -U :class:`~langchain-huggingface` and import as `from :class:`~langchain_huggingface import HuggingFaceEmbeddings``.\n",
      "  embeddings = HuggingFaceEmbeddings(model_name=\"sentence-transformers/all-MiniLM-L6-v2\")\n"
     ]
    },
    {
     "data": {
      "application/vnd.jupyter.widget-view+json": {
       "model_id": "28a7a000dc9a40248f5b1af6f913d5b8",
       "version_major": 2,
       "version_minor": 0
      },
      "text/plain": [
       "modules.json:   0%|          | 0.00/349 [00:00<?, ?B/s]"
      ]
     },
     "metadata": {},
     "output_type": "display_data"
    },
    {
     "data": {
      "application/vnd.jupyter.widget-view+json": {
       "model_id": "9a77dcfd753748dc92037453569a1405",
       "version_major": 2,
       "version_minor": 0
      },
      "text/plain": [
       "config_sentence_transformers.json:   0%|          | 0.00/116 [00:00<?, ?B/s]"
      ]
     },
     "metadata": {},
     "output_type": "display_data"
    },
    {
     "data": {
      "application/vnd.jupyter.widget-view+json": {
       "model_id": "8477f6b716b24ebfa5437702a1465dea",
       "version_major": 2,
       "version_minor": 0
      },
      "text/plain": [
       "README.md:   0%|          | 0.00/10.7k [00:00<?, ?B/s]"
      ]
     },
     "metadata": {},
     "output_type": "display_data"
    },
    {
     "data": {
      "application/vnd.jupyter.widget-view+json": {
       "model_id": "c1f120821f444c9e9f0207fd938612c5",
       "version_major": 2,
       "version_minor": 0
      },
      "text/plain": [
       "sentence_bert_config.json:   0%|          | 0.00/53.0 [00:00<?, ?B/s]"
      ]
     },
     "metadata": {},
     "output_type": "display_data"
    },
    {
     "data": {
      "application/vnd.jupyter.widget-view+json": {
       "model_id": "1ed7c2bbac4c4184b6f420dfc7c9fbf9",
       "version_major": 2,
       "version_minor": 0
      },
      "text/plain": [
       "config.json:   0%|          | 0.00/612 [00:00<?, ?B/s]"
      ]
     },
     "metadata": {},
     "output_type": "display_data"
    },
    {
     "data": {
      "application/vnd.jupyter.widget-view+json": {
       "model_id": "b348a92d4a134126ac6b002a57b52471",
       "version_major": 2,
       "version_minor": 0
      },
      "text/plain": [
       "model.safetensors:   0%|          | 0.00/90.9M [00:00<?, ?B/s]"
      ]
     },
     "metadata": {},
     "output_type": "display_data"
    },
    {
     "data": {
      "application/vnd.jupyter.widget-view+json": {
       "model_id": "9df3e8b19a3040ab906b33db9d7ac058",
       "version_major": 2,
       "version_minor": 0
      },
      "text/plain": [
       "tokenizer_config.json:   0%|          | 0.00/350 [00:00<?, ?B/s]"
      ]
     },
     "metadata": {},
     "output_type": "display_data"
    },
    {
     "data": {
      "application/vnd.jupyter.widget-view+json": {
       "model_id": "9900f5b402a74648b1f57db75e358642",
       "version_major": 2,
       "version_minor": 0
      },
      "text/plain": [
       "vocab.txt:   0%|          | 0.00/232k [00:00<?, ?B/s]"
      ]
     },
     "metadata": {},
     "output_type": "display_data"
    },
    {
     "data": {
      "application/vnd.jupyter.widget-view+json": {
       "model_id": "eb5759aaef314514ac4b724982c6e097",
       "version_major": 2,
       "version_minor": 0
      },
      "text/plain": [
       "tokenizer.json:   0%|          | 0.00/466k [00:00<?, ?B/s]"
      ]
     },
     "metadata": {},
     "output_type": "display_data"
    },
    {
     "data": {
      "application/vnd.jupyter.widget-view+json": {
       "model_id": "f1d19f3c563e418abbd05a46ea49d549",
       "version_major": 2,
       "version_minor": 0
      },
      "text/plain": [
       "special_tokens_map.json:   0%|          | 0.00/112 [00:00<?, ?B/s]"
      ]
     },
     "metadata": {},
     "output_type": "display_data"
    },
    {
     "data": {
      "application/vnd.jupyter.widget-view+json": {
       "model_id": "c8cbe995cac34b5fb4e9e835e7d4c8e9",
       "version_major": 2,
       "version_minor": 0
      },
      "text/plain": [
       "1_Pooling/config.json:   0%|          | 0.00/190 [00:00<?, ?B/s]"
      ]
     },
     "metadata": {},
     "output_type": "display_data"
    }
   ],
   "source": [
    "from langchain.embeddings import HuggingFaceEmbeddings\n",
    "from langchain.vectorstores import Chroma\n",
    "\n",
    "embeddings = HuggingFaceEmbeddings(model_name=\"sentence-transformers/all-MiniLM-L6-v2\")\n",
    "\n",
    "vectorstore = Chroma.from_documents(\n",
    "    documents=splits,\n",
    "    embedding=embeddings\n",
    ")\n",
    "\n",
    "retriever = vectorstore.as_retriever(search_kwargs={'k': 5})\n"
   ]
  },
  {
   "cell_type": "code",
   "execution_count": 7,
   "id": "ee6dcb69-b31d-4482-94a2-81b16cb11e9b",
   "metadata": {},
   "outputs": [],
   "source": [
    "question = 'Is there any bakery near me that can give me organic flour? Or that produces fermented bread.'"
   ]
  },
  {
   "cell_type": "code",
   "execution_count": 8,
   "id": "fed0c604-ee5b-4054-9c5b-227680a1742a",
   "metadata": {},
   "outputs": [
    {
     "name": "stderr",
     "output_type": "stream",
     "text": [
      "/var/folders/hh/n0z7fj213rs0qtpsswcnxxl40000gp/T/ipykernel_21863/2071617569.py:1: LangChainDeprecationWarning: The method `BaseRetriever.get_relevant_documents` was deprecated in langchain-core 0.1.46 and will be removed in 1.0. Use :meth:`~invoke` instead.\n",
      "  initial_docs = retriever.get_relevant_documents(question)\n"
     ]
    }
   ],
   "source": [
    "initial_docs = retriever.get_relevant_documents(question)\n",
    "documents_texts = [doc.page_content for doc in initial_docs]\n",
    "\n",
    "data = {\n",
    "    'model': 'jina-reranker-v2-base-en',\n",
    "    'query': question,\n",
    "    'top_n': 5,\n",
    "    'documents': documents_texts\n",
    "}\n"
   ]
  },
  {
   "cell_type": "code",
   "execution_count": 9,
   "id": "e2c4cad9-fae1-4dde-ac34-13f647f62026",
   "metadata": {},
   "outputs": [],
   "source": [
    "import requests\n",
    "\n",
    "url = 'https://api.jina.ai/v1/rerank'\n",
    "headers = {\n",
    "    'Content-Type': 'application/json',\n",
    "    'Authorization': 'Bearer key_here'\n",
    "}\n",
    "\n",
    "response = requests.post(url, headers=headers, json=data)\n",
    "rerank_results = response.json()\n",
    "\n"
   ]
  },
  {
   "cell_type": "code",
   "execution_count": 10,
   "id": "4649e386-e729-4f71-b8f4-bb995175f62f",
   "metadata": {},
   "outputs": [
    {
     "name": "stdout",
     "output_type": "stream",
     "text": [
      "Error in reranking: {'detail': 'Model jina-reranker-v2-base-en not found'}\n"
     ]
    }
   ],
   "source": [
    "# Process the reranker response\n",
    "if 'results' in rerank_results:\n",
    "    reranked_docs = []\n",
    "    for result in rerank_results['results']:\n",
    "        index = result['index']\n",
    "        reranked_doc = initial_docs[index]\n",
    "        reranked_docs.append(reranked_doc)\n",
    "else:\n",
    "    # Handle error\n",
    "    print(\"Error in reranking:\", rerank_results)\n",
    "    reranked_docs = initial_docs  # Fallback to initial docs"
   ]
  },
  {
   "cell_type": "code",
   "execution_count": 11,
   "id": "b1c0651f-0e32-477b-9f20-5ec7efa514ea",
   "metadata": {},
   "outputs": [
    {
     "name": "stdout",
     "output_type": "stream",
     "text": [
      "Entities matching your requirements:\n",
      "Title: Bread & Butter Bakery\n",
      "Description: Keywords: bakery, artisanal bread, pastries, local ingredients\n",
      "Inventory Atoms: Organic Flour: Flour milled from organically grown grains.\n",
      "\n",
      "Title: Bread & Butter Bakery\n",
      "Description: Title: Bread & Butter Bakery\n",
      "Description: A bakery specializing in sourdough bread and handcrafted pastries using locally sourced ingredients.\n",
      "\n",
      "Title: Bread & Butter Bakery\n",
      "Description: Product Atoms: Sourdough Loaves: Bread made through natural fermentation.\n",
      "Tool List Atoms: Stone Oven: Traditional stone oven for baking.\n",
      "Processes: Baking, Fermentation\n",
      "\n",
      "Title: SkyGrow Hydroponics\n",
      "Description: Tool List Atoms: Hydroponic Systems: Equipment for soilless cultivation.\n",
      "Processes: Soilless Cultivation, Vertical Farming\n",
      "\n",
      "Title: EcoEnergy Solutions\n",
      "Description: Title: EcoEnergy Solutions\n",
      "Description: Provides solar panel installation and wind turbine services for residential and commercial clients.\n",
      "\n"
     ]
    }
   ],
   "source": [
    "# Option 1: Simple list of entities\n",
    "entities = []\n",
    "for doc in reranked_docs:\n",
    "    title = doc.metadata.get('title', 'No Title')\n",
    "    description = doc.page_content\n",
    "    entities.append({'title': title, 'description': description})\n",
    "\n",
    "print(\"Entities matching your requirements:\")\n",
    "for entity in entities:\n",
    "    print(f\"Title: {entity['title']}\")\n",
    "    print(f\"Description: {entity['description']}\\n\")\n"
   ]
  },
  {
   "cell_type": "code",
   "execution_count": null,
   "id": "d40cd748-1422-438f-87a9-f74f72dde799",
   "metadata": {},
   "outputs": [],
   "source": []
  }
 ],
 "metadata": {
  "kernelspec": {
   "display_name": "Python 3 (ipykernel)",
   "language": "python",
   "name": "python3"
  },
  "language_info": {
   "codemirror_mode": {
    "name": "ipython",
    "version": 3
   },
   "file_extension": ".py",
   "mimetype": "text/x-python",
   "name": "python",
   "nbconvert_exporter": "python",
   "pygments_lexer": "ipython3",
   "version": "3.12.7"
  }
 },
 "nbformat": 4,
 "nbformat_minor": 5
}
