{
 "cells": [
  {
   "cell_type": "code",
   "execution_count": 1,
   "id": "13c2c229-28ed-421a-83b0-508215327f70",
   "metadata": {},
   "outputs": [],
   "source": [
    "import json\n",
    "from langchain.docstore.document import Document\n",
    "import glob\n",
    "from langchain.embeddings import HuggingFaceEmbeddings\n",
    "from langchain.llms import HuggingFacePipeline\n",
    "from transformers import AutoTokenizer, AutoModelForSeq2SeqLM, pipeline\n",
    "from preprocessing import SemanticJSONSplitter, load_and_process_documents"
   ]
  },
  {
   "cell_type": "code",
   "execution_count": 2,
   "id": "af242341-5efe-4ac6-8af7-7c01d40da58b",
   "metadata": {},
   "outputs": [],
   "source": [
    "directory_path = './OKWs/'\n",
    "documents = load_and_process_documents(directory_path)\n"
   ]
  },
  {
   "cell_type": "code",
   "execution_count": 3,
   "id": "eb449705-a9a2-4d1a-87ff-5029ca68f3c6",
   "metadata": {},
   "outputs": [
    {
     "name": "stderr",
     "output_type": "stream",
     "text": [
      "/var/folders/hh/n0z7fj213rs0qtpsswcnxxl40000gp/T/ipykernel_10648/2561524.py:4: LangChainDeprecationWarning: The class `HuggingFaceEmbeddings` was deprecated in LangChain 0.2.2 and will be removed in 1.0. An updated version of the class exists in the :class:`~langchain-huggingface package and should be used instead. To use it run `pip install -U :class:`~langchain-huggingface` and import as `from :class:`~langchain_huggingface import HuggingFaceEmbeddings``.\n",
      "  embeddings = HuggingFaceEmbeddings(model_name=\"sentence-transformers/all-MiniLM-L6-v2\")\n"
     ]
    }
   ],
   "source": [
    "from langchain.embeddings import HuggingFaceEmbeddings\n",
    "from langchain.vectorstores import Chroma\n",
    "\n",
    "embeddings = HuggingFaceEmbeddings(model_name=\"sentence-transformers/all-MiniLM-L6-v2\")\n",
    "\n",
    "vectorstore = Chroma.from_documents(\n",
    "    documents=documents,\n",
    "    embedding=embeddings\n",
    ")\n",
    "\n",
    "retriever = vectorstore.as_retriever(search_kwargs={'k': 5})\n"
   ]
  },
  {
   "cell_type": "code",
   "execution_count": 7,
   "id": "ee6dcb69-b31d-4482-94a2-81b16cb11e9b",
   "metadata": {},
   "outputs": [],
   "source": [
    "question = 'Wooden house with special fabrics'"
   ]
  },
  {
   "cell_type": "code",
   "execution_count": 8,
   "id": "8267a842-1186-4cc7-a747-0f99659d696c",
   "metadata": {},
   "outputs": [],
   "source": [
    "initial_docs = retriever.get_relevant_documents(question)"
   ]
  },
  {
   "cell_type": "code",
   "execution_count": 9,
   "id": "b1c0651f-0e32-477b-9f20-5ec7efa514ea",
   "metadata": {},
   "outputs": [
    {
     "name": "stdout",
     "output_type": "stream",
     "text": [
      "Entities matching your requirements:\n",
      "Title: Sew & Tell Studio\n",
      "Description: Title: Sew & Tell Studio\n",
      "Description: A space offering sewing machines, materials, and workshops for creating clothing and textiles.\n",
      "Keywords: sewing, textile arts, clothing design, workshops, quilting, fashion, crafts\n",
      "\n",
      "Title: Sew & Tell Studio\n",
      "Description: Title: Sew & Tell Studio\n",
      "Inventory-Atoms: Fabric: Various types of fabric for sewing projects., Thread: Assorted threads in different colors and materials., Buttons and Zippers: Various closures for garments., Patterns: Design templates for sewing projects., Notions: Sewing accessories like pins, Embroidery Floss: Colored threads for embroidery., Quilting Supplies: Materials and tools for quilting projects.\n",
      "\n",
      "Title: Sew & Tell Studio\n",
      "Description: Title: Sew & Tell Studio\n",
      "Product-Atoms: Reusable Shopping Bags: Eco-friendly bags made from recycled materials., Custom Apparel: Made-to-measure clothing items., Textile Art Pieces: Unique decorative textile creations., Quilts: Handcrafted quilts in various designs., Face Masks: Reusable fabric face masks., Cushion Covers: Decorative covers for cushions and pillows.\n",
      "\n",
      "Title: Downtown Makerspace\n",
      "Description: Title: Downtown Makerspace\n",
      "Inventory-Atoms: 3D Printer Filament: Various types of filament for 3D printing., Metal Sheets: Assorted metal sheets for fabrication projects., Wood Planks: Different types of wood for carpentry., Electronic Components: Resistors, Fabric and Textiles: Materials for sewing and crafting projects., Paints and Finishes: Various paints\n",
      "\n",
      "Title: Downtown Makerspace\n",
      "Description: Title: Downtown Makerspace\n",
      "Product-Atoms: Custom Engraved Keychains: Keychains made using laser cutters., 3D Printed Prototypes: Rapid prototyping services using 3D printers., Handcrafted Furniture: Unique furniture pieces made by members., Electronic Gadgets: Custom-built electronic devices and kits.\n",
      "\n"
     ]
    }
   ],
   "source": [
    "# Option 1: Simple list of entities\n",
    "entities = []\n",
    "for doc in initial_docs:\n",
    "    title = doc.metadata.get('title', 'No Title')\n",
    "    description = doc.page_content\n",
    "    entities.append({'title': title, 'description': description})\n",
    "\n",
    "print(\"Entities matching your requirements:\")\n",
    "for entity in entities:\n",
    "    print(f\"Title: {entity['title']}\")\n",
    "    print(f\"Description: {entity['description']}\\n\")\n"
   ]
  },
  {
   "cell_type": "code",
   "execution_count": null,
   "id": "d40cd748-1422-438f-87a9-f74f72dde799",
   "metadata": {},
   "outputs": [],
   "source": []
  }
 ],
 "metadata": {
  "kernelspec": {
   "display_name": "Python 3 (ipykernel)",
   "language": "python",
   "name": "python3"
  },
  "language_info": {
   "codemirror_mode": {
    "name": "ipython",
    "version": 3
   },
   "file_extension": ".py",
   "mimetype": "text/x-python",
   "name": "python",
   "nbconvert_exporter": "python",
   "pygments_lexer": "ipython3",
   "version": "3.11.10"
  }
 },
 "nbformat": 4,
 "nbformat_minor": 5
}
